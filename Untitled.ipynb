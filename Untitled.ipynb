{
 "cells": [
  {
   "cell_type": "code",
   "execution_count": 1,
   "metadata": {},
   "outputs": [],
   "source": [
    "import numpy as np\n",
    "from qernel import Ket\n",
    "%load_ext autoreload\n",
    "%autoreload 2"
   ]
  },
  {
   "cell_type": "code",
   "execution_count": 6,
   "metadata": {},
   "outputs": [
    {
     "name": "stdout",
     "output_type": "stream",
     "text": [
      "Ket A:  Ket: [-0.5+0.32j  0.1+0.89j  0.4+0.23j]\n",
      "Ket B:  Ket: [-0.3 +0.32j  0.2 +0.89j  0.5+21.j  ]\n",
      "Ket A+B:  Ket: [-0.8 +0.64j  0.3 +1.78j  0.9+21.23j]\n",
      "Ket A-B:  Ket: [-0.8 +0.64j  0.3 +1.78j  0.9+21.23j]\n",
      "Ket A*2:  Ket: [-1. +0.64j  0.2+1.78j  0.8+0.46j]\n",
      "Ket 2.5*A:  Ket: [-1.25+0.8j    0.25+2.225j  1.  +0.575j]\n",
      "Ket A/3:  Ket: [-0.16666667+0.10666667j  0.03333333+0.29666667j  0.13333333+0.07666667j]\n",
      "Ket A**5:  Ket: [ 0.0705356 +0.02143544j  0.30580021+0.48835404j -0.01801918+0.01061643j]\n",
      "A == A:  True\n",
      "A == B:  False\n",
      "A != B:  True\n",
      "A != A:  False\n",
      "A.purity:  1.0\n",
      "A.is_pure:  True\n",
      "[-0.5+0.32j  0.1+0.89j  0.4+0.23j]\n",
      "A.complex_conjugate [-0.5-0.32j  0.1-0.89j  0.4-0.23j]\n",
      "dot (-5.3545+8.526j)\n"
     ]
    }
   ],
   "source": [
    "#seeding for reproducibility\n",
    "np.random.seed(42)\n",
    "\n",
    "#Creating Kets\n",
    "a = np.array([-0.5+0.32j, 0.1+0.89j, 0.4+0.23j])\n",
    "b = np.array([-0.3+0.32j, 0.2+0.89j, 0.5+21j])\n",
    "\n",
    "ket_a = Ket(a)\n",
    "ket_b = Ket(b)\n",
    "print('Ket A: ',  ket_a)\n",
    "print('Ket B: ',  ket_b)\n",
    "\n",
    "c = ket_a + ket_b\n",
    "print('Ket A+B: ',  c)\n",
    "\n",
    "d = ket_a - ket_b\n",
    "print('Ket A-B: ',  d)\n",
    "\n",
    "e = ket_a * 2\n",
    "print('Ket A*2: ',  e)\n",
    "\n",
    "f = 2.5 * ket_a\n",
    "print('Ket 2.5*A: ',  f)\n",
    "\n",
    "g = ket_a / 3\n",
    "print('Ket A/3: ',  g)\n",
    "\n",
    "h = ket_a ** 5\n",
    "print('Ket A**5: ',  h)\n",
    "\n",
    "print('A == A: ',  ket_a == ket_a)\n",
    "print('A == B: ',  ket_a == ket_b)\n",
    "print('A != B: ',  ket_a != ket_b)\n",
    "print('A != A: ',  ket_a != ket_a)\n",
    "\n",
    "print(\"A.purity: \", ket_a.purity)\n",
    "print(\"A.is_pure: \", ket_a.is_pure)\n",
    "\n",
    "print(np.array(ket_a))\n",
    "\n",
    "print(\"A.complex_conjugate\", np.conj(ket_a))\n",
    "print(\"dot\", np.dot(ket_a, ket_b))\n",
    "\n",
    "# print(\"A.inner: \", ket_a.inner()) => NO\n",
    "# print(\"A.inner: \", ket_a.inner) => NO\n",
    "# print(\"A.inner: \", ket_a.inner(ket_b)) #No?"
   ]
  },
  {
   "cell_type": "code",
   "execution_count": 3,
   "metadata": {},
   "outputs": [
    {
     "name": "stdout",
     "output_type": "stream",
     "text": [
      "others:  None\n",
      "others:  None\n",
      "others:  complex128\n",
      "others:  complex128\n"
     ]
    },
    {
     "data": {
      "text/plain": [
       "(-0.5274+0.04200000000000004j)"
      ]
     },
     "execution_count": 3,
     "metadata": {},
     "output_type": "execute_result"
    }
   ],
   "source": [
    "np.dot(ket_a, ket_a)"
   ]
  },
  {
   "cell_type": "code",
   "execution_count": null,
   "metadata": {},
   "outputs": [],
   "source": []
  }
 ],
 "metadata": {
  "kernelspec": {
   "display_name": "Python 3.8",
   "language": "python",
   "name": "py38"
  },
  "language_info": {
   "codemirror_mode": {
    "name": "ipython",
    "version": 3
   },
   "file_extension": ".py",
   "mimetype": "text/x-python",
   "name": "python",
   "nbconvert_exporter": "python",
   "pygments_lexer": "ipython3",
   "version": "3.8.2"
  }
 },
 "nbformat": 4,
 "nbformat_minor": 4
}
